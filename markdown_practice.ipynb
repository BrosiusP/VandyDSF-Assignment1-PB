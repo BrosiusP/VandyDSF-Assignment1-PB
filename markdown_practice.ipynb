{
  "nbformat": 4,
  "nbformat_minor": 0,
  "metadata": {
    "colab": {
      "provenance": [],
      "authorship_tag": "ABX9TyN2KJ8VIL7EHyJ6HMhyePSs",
      "include_colab_link": true
    },
    "kernelspec": {
      "name": "python3",
      "display_name": "Python 3"
    },
    "language_info": {
      "name": "python"
    }
  },
  "cells": [
    {
      "cell_type": "markdown",
      "metadata": {
        "id": "view-in-github",
        "colab_type": "text"
      },
      "source": [
        "<a href=\"https://colab.research.google.com/github/BrosiusP/VandyDSF-Assignment1-PB/blob/main/markdown_practice.ipynb\" target=\"_parent\"><img src=\"https://colab.research.google.com/assets/colab-badge.svg\" alt=\"Open In Colab\"/></a>"
      ]
    },
    {
      "cell_type": "code",
      "execution_count": null,
      "metadata": {
        "id": "TUay7rVb0bW7"
      },
      "outputs": [],
      "source": [
        "# Markdown Practice in Jupyter"
      ]
    },
    {
      "cell_type": "markdown",
      "source": [
        "## test\n",
        "\n",
        "### test\n",
        "\n",
        "\n",
        "\n",
        "1.   List item\n",
        "2.   List item\n",
        "\n",
        "\n",
        "\n",
        "*   List item\n",
        "*   List item\n",
        "\n",
        "[link text](https://www.markdownguide.org/getting-started/)\n",
        "\n",
        "**bold text**\n",
        "\n",
        "*italic text*"
      ],
      "metadata": {
        "id": "iloz3hCExQgl"
      }
    }
  ]
}